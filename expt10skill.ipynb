{
 "cells": [
  {
   "cell_type": "markdown",
   "metadata": {},
   "source": [
    "Experiment - 10"
   ]
  },
  {
   "cell_type": "code",
   "execution_count": null,
   "metadata": {},
   "outputs": [
    {
     "name": "stdout",
     "output_type": "stream",
     "text": [
      "Selected Features using Backward Elimination (RFE): Index(['volatile acidity', 'citric acid', 'chlorides', 'sulphates', 'alcohol'], dtype='object')\n"
     ]
    }
   ],
   "source": [
    "import pandas as pd\n",
    "from sklearn.feature_selection import RFE\n",
    "from sklearn.linear_model import LogisticRegression\n",
    "from sklearn.model_selection import train_test_split\n",
    "\n",
    "url = \"https://archive.ics.uci.edu/ml/machine-learning-databases/wine-quality/winequality-red.csv\"\n",
    "df = pd.read_csv(url, delimiter=';')\n",
    "\n",
    "df['quality_category'] = (df['quality'] >= 7).astype(int)\n",
    "\n",
    "X = df.drop(columns=['quality', 'quality_category'])\n",
    "y = df['quality_category']\n",
    "\n",
    "X_train, X_test, y_train, y_test = train_test_split(X, y, test_size=0.2, random_state=42)\n",
    "\n",
    "model = LogisticRegression(max_iter=1000)\n",
    "rfe = RFE(model, n_features_to_select=5)\n",
    "rfe.fit(X_train, y_train)\n",
    "\n",
    "selected_features_rfe = X.columns[rfe.support_]\n",
    "print(\"Selected Features using Backward Elimination (RFE):\", selected_features_rfe)"
   ]
  }
 ],
 "metadata": {
  "language_info": {
   "name": "python"
  }
 },
 "nbformat": 4,
 "nbformat_minor": 2
}
