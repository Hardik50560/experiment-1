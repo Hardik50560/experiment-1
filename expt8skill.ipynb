{
 "cells": [
  {
   "cell_type": "markdown",
   "metadata": {},
   "source": [
    "Experiment - 8"
   ]
  },
  {
   "cell_type": "code",
   "execution_count": null,
   "metadata": {},
   "outputs": [],
   "source": [
    "import pandas as pd\n",
    "import numpy as np\n",
    "from sklearn.feature_selection import VarianceThreshold\n",
    "from sklearn.model_selection import train_test_split\n",
    "\n",
    "url = \"https://archive.ics.uci.edu/ml/machine-learning-databases/wine-quality/winequality-red.csv\"\n",
    "df = pd.read_csv(url, delimiter=';')\n",
    "\n",
    "df['quality_category'] = np.where(df['quality'] >= 7, 1, 0)\n",
    "\n",
    "X = df.drop(columns=['quality', 'quality_category'])\n",
    "y = df['quality_category']\n",
    "\n",
    "X_train, X_test, y_train, y_test = train_test_split(X, y, test_size=0.2, random_state=42)\n",
    "\n",
    "correlation = X_train.corrwith(y_train)\n",
    "selected_features_corr = correlation.abs().sort_values(ascending=False).head(5).index.tolist()\n",
    "print(\"Selected Features using Correlation Coefficient:\", selected_features_corr)\n",
    "\n",
    "var_thresh = VarianceThreshold(threshold=0.01)\n",
    "X_new_var = var_thresh.fit_transform(X_train)\n",
    "\n",
    "selected_features_var = X.columns[var_thresh.get_support()]\n",
    "print(\"Selected Features using Variance Threshold:\", selected_features_var)"
   ]
  }
 ],
 "metadata": {
  "language_info": {
   "name": "python"
  }
 },
 "nbformat": 4,
 "nbformat_minor": 2
}
