{
  "cells": [
    {
      "cell_type": "markdown",
      "metadata": {
        "id": "vkljeiCt_t9Y"
      },
      "source": [
        "Experiment 7"
      ]
    },
    {
      "cell_type": "markdown",
      "metadata": {
        "id": "rNzxEcdoCgqn"
      },
      "source": [
        "Filter methods of feature selection"
      ]
    },
    {
      "cell_type": "code",
      "execution_count": 26,
      "metadata": {
        "colab": {
          "base_uri": "https://localhost:8080/"
        },
        "id": "U55Ats1huJIx",
        "outputId": "e850cfce-c383-420c-ae7c-3486d9486d7f"
      },
      "outputs": [
        {
          "name": "stdout",
          "output_type": "stream",
          "text": [
            "   fixed acidity  volatile acidity  citric acid  residual sugar  chlorides  \\\n",
            "0            7.4              0.70         0.00             1.9      0.076   \n",
            "1            7.8              0.88         0.00             2.6      0.098   \n",
            "2            7.8              0.76         0.04             2.3      0.092   \n",
            "3           11.2              0.28         0.56             1.9      0.075   \n",
            "4            7.4              0.70         0.00             1.9      0.076   \n",
            "\n",
            "   free sulfur dioxide  total sulfur dioxide  density    pH  sulphates  \\\n",
            "0                 11.0                  34.0   0.9978  3.51       0.56   \n",
            "1                 25.0                  67.0   0.9968  3.20       0.68   \n",
            "2                 15.0                  54.0   0.9970  3.26       0.65   \n",
            "3                 17.0                  60.0   0.9980  3.16       0.58   \n",
            "4                 11.0                  34.0   0.9978  3.51       0.56   \n",
            "\n",
            "   alcohol  quality  \n",
            "0      9.4        5  \n",
            "1      9.8        5  \n",
            "2      9.8        5  \n",
            "3      9.8        6  \n",
            "4      9.4        5  \n"
          ]
        }
      ],
      "source": [
        "import pandas as pd\n",
        "import numpy as np\n",
        "import matplotlib.pyplot as plt\n",
        "from sklearn.feature_selection import SelectKBest, chi2, f_classif\n",
        "from sklearn.preprocessing import MinMaxScaler, LabelEncoder\n",
        "\n",
        "# Load the dataset from UCI ML Repository\n",
        "url = \"https://archive.ics.uci.edu/ml/machine-learning-databases/wine-quality/winequality-red.csv\"\n",
        "df = pd.read_csv(url, delimiter=';')\n",
        "\n",
        "# Display first few rows\n",
        "print(df.head())"
      ]
    },
    {
      "cell_type": "code",
      "execution_count": 25,
      "metadata": {
        "colab": {
          "base_uri": "https://localhost:8080/"
        },
        "id": "f9LV1fh0Bn_8",
        "outputId": "c2dd1bac-3427-49a0-bbf9-e9da64a0c992"
      },
      "outputs": [
        {
          "name": "stdout",
          "output_type": "stream",
          "text": [
            "Selected Features using Chi-Square Test: Index(['fixed acidity', 'citric acid', 'free sulfur dioxide',\n",
            "       'total sulfur dioxide', 'alcohol'],\n",
            "      dtype='object')\n",
            "Selected Features using ANOVA F-test (Fisher’s Score): Index(['citric acid', 'residual sugar', 'free sulfur dioxide', 'density',\n",
            "       'alcohol'],\n",
            "      dtype='object')\n"
          ]
        }
      ],
      "source": [
        "import pandas as pd\n",
        "import numpy as np\n",
        "from sklearn.feature_selection import SelectKBest, chi2, f_classif\n",
        "from sklearn.model_selection import train_test_split\n",
        "url = \"https://archive.ics.uci.edu/ml/machine-learning-databases/wine-quality/winequality-red.csv\"\n",
        "df = pd.read_csv(url, delimiter=';'\n",
        "df['quality_category'] = np.where(df['quality'] >= 7, 1, 0)\n",
        "X = df.drop(columns=['quality', 'quality_category'])\n",
        "y = df['quality_category'] \n",
        "y_continuous = df['quality'] \n",
        "X_train, X_test, y_train, y_test = train_test_split(X, y, test_size=0.2, random_state=42)\n",
        "chi2_selector = SelectKBest(score_func=chi2, k=5)\n",
        "X_new_chi2 = chi2_selector.fit_transform(X_train, y_train)\n",
        "chi2_selected_features = X.columns[chi2_selector.get_support()]\n",
        "print(\"Selected Features using Chi-Square Test:\", chi2_selected_features)\n",
        "anova_selector = SelectKBest(score_func=f_classif, k=5)\n",
        "X_new_anova = anova_selector.fit_transform(X_train, y_continuous[:len(X_train)])\n",
        "anova_selected_features = X.columns[anova_selector.get_support()]\n",
        "print(\"Selected Features using ANOVA F-test (Fisher’s Score):\", anova_selected_features)"
      ]
    }
  ],
  "metadata": {
    "colab": {
      "provenance": []
    },
    "kernelspec": {
      "display_name": "Python 3",
      "name": "python3"
    },
    "language_info": {
      "name": "python"
    }
  },
  "nbformat": 4,
  "nbformat_minor": 0
}
